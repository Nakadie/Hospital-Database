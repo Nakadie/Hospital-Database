{
 "cells": [
  {
   "cell_type": "code",
   "execution_count": 1,
   "id": "028a5371",
   "metadata": {},
   "outputs": [],
   "source": [
    "import gym"
   ]
  },
  {
   "cell_type": "code",
   "execution_count": 2,
   "id": "d7ce26bb",
   "metadata": {},
   "outputs": [],
   "source": [
    "env = gym.make('SpaceInvaders-v0')"
   ]
  },
  {
   "cell_type": "code",
   "execution_count": 3,
   "id": "43ac486c",
   "metadata": {},
   "outputs": [
    {
     "name": "stdout",
     "output_type": "stream",
     "text": [
      "Episode: 1\n",
      "Score: 370.0\n",
      "Episode: 2\n",
      "Score: 195.0\n",
      "Episode: 3\n",
      "Score: 35.0\n",
      "Episode: 4\n",
      "Score: 185.0\n",
      "Episode: 5\n",
      "Score: 270.0\n",
      "Episode: 6\n",
      "Score: 415.0\n",
      "Episode: 7\n",
      "Score: 105.0\n",
      "Episode: 8\n",
      "Score: 320.0\n",
      "Episode: 9\n",
      "Score: 125.0\n"
     ]
    }
   ],
   "source": [
    "episodes = 10\n",
    "\n",
    "for episode in range(1, episodes):\n",
    "    state = env.reset()\n",
    "    done = False\n",
    "    score = 0\n",
    "    \n",
    "    while not done:\n",
    "        env.render()\n",
    "        state, reward, done, info = env.step(env.action_space.sample())\n",
    "        score += reward\n",
    "    print('Episode: {}\\nScore: {}'.format(episode, score))"
   ]
  },
  {
   "cell_type": "code",
   "execution_count": 4,
   "id": "c30d30d2",
   "metadata": {},
   "outputs": [],
   "source": [
    "#import Neural Network Packages\n",
    "import numpy as np\n",
    "from tensorflow.keras.models import Sequential\n",
    "from tensorflow.keras.layers import Dense, Flatten, Conv2D\n",
    "from tensorflow.keras.optimizers import Adam\n"
   ]
  },
  {
   "cell_type": "code",
   "execution_count": 5,
   "id": "c64dfc1d",
   "metadata": {},
   "outputs": [],
   "source": [
    "def build_model(height, width, channels, actions):\n",
    "    model = Sequential()\n",
    "    model.add(Conv2D(32, (8,8), strides=(4,4), activation='relu', input_shape=(3, height, width, channels)))\n",
    "    model.add(Conv2D(64, (4,4), strides=(2,2), activation= 'relu'))\n",
    "    model.add(Conv2D(64, (4,4), strides=(2,2), activation= 'relu'))\n",
    "    model.add(Flatten())\n",
    "    model.add(Dense(512, activation='relu'))\n",
    "    model.add(Dense(256, activation='relu'))\n",
    "    model.add(Dense(64, activation='relu'))\n",
    "    model.add(Dense(actions, activation='linear'))\n",
    "    return model"
   ]
  },
  {
   "cell_type": "code",
   "execution_count": 6,
   "id": "6bb8990c",
   "metadata": {},
   "outputs": [],
   "source": [
    "height, width, channels = env.observation_space.shape\n",
    "actions = env.action_space.n"
   ]
  },
  {
   "cell_type": "code",
   "execution_count": 13,
   "id": "222ae1ce",
   "metadata": {},
   "outputs": [],
   "source": [
    "del model"
   ]
  },
  {
   "cell_type": "code",
   "execution_count": 14,
   "id": "d03d751e",
   "metadata": {},
   "outputs": [],
   "source": [
    "model = build_model(height, width, channels, actions)"
   ]
  },
  {
   "cell_type": "code",
   "execution_count": 15,
   "id": "6fdd227c",
   "metadata": {},
   "outputs": [],
   "source": [
    "#importing keras-rl2 reinforcement learning function\n",
    "from rl.agents import DQNAgent\n",
    "from rl.memory import SequentialMemory\n",
    "from rl.policy import LinearAnnealedPolicy, EpsGreedyQPolicy\n"
   ]
  },
  {
   "cell_type": "code",
   "execution_count": 16,
   "id": "c32e7f03",
   "metadata": {},
   "outputs": [],
   "source": [
    "def build_agent(model, actions):\n",
    "    policy = LinearAnnealedPolicy(EpsGreedyQPolicy(), attr='eps', value_max=1, value_min=1, value_test=2, nb_steps=10000)\n",
    "    memory = SequentialMemory(limit = 2000, window_length=3)\n",
    "    dqn = DQNAgent(model=model,memory=memory, policy=policy, enable_dueling_network=True, dueling_type='avg', nb_actions = actions, nb_steps_warmup=1000)\n",
    "    return dqn"
   ]
  },
  {
   "cell_type": "code",
   "execution_count": 17,
   "id": "fbb9d694",
   "metadata": {},
   "outputs": [],
   "source": [
    "dqn = build_agent(model, actions)"
   ]
  },
  {
   "cell_type": "code",
   "execution_count": 18,
   "id": "3792b5c1",
   "metadata": {},
   "outputs": [],
   "source": [
    "dqn.compile(Adam(lr=0.0001))"
   ]
  },
  {
   "cell_type": "code",
   "execution_count": 19,
   "id": "eb17843d",
   "metadata": {
    "scrolled": true
   },
   "outputs": [
    {
     "name": "stdout",
     "output_type": "stream",
     "text": [
      "Training for 40000 steps ...\n",
      "Interval 1 (0 steps performed)\n",
      "WARNING:tensorflow:From c:\\users\\kamuela\\anaconda3\\envs\\practicalrl\\lib\\site-packages\\tensorflow\\python\\keras\\engine\\training_v1.py:2070: Model.state_updates (from tensorflow.python.keras.engine.training) is deprecated and will be removed in a future version.\n",
      "Instructions for updating:\n",
      "This property should not be used in TensorFlow 2.0, as updates are applied automatically.\n",
      "10000/10000 [==============================] - 11507s 1s/step - reward: 0.3010\n",
      "13 episodes - episode_reward: 227.308 [50.000, 470.000] - loss: 2.577 - mean_q: 7.569 - mean_eps: 1.000 - ale.lives: 1.921\n",
      "\n",
      "Interval 2 (10000 steps performed)\n",
      "10000/10000 [==============================] - 43709s 4s/step - reward: 0.2575\n",
      "13 episodes - episode_reward: 202.308 [65.000, 420.000] - loss: 1.978 - mean_q: 8.999 - mean_eps: 1.000 - ale.lives: 2.101\n",
      "\n",
      "Interval 3 (20000 steps performed)\n",
      "10000/10000 [==============================] - 13218s 1s/step - reward: 0.2340\n",
      "16 episodes - episode_reward: 146.250 [45.000, 465.000] - loss: 0.973 - mean_q: 9.616 - mean_eps: 1.000 - ale.lives: 2.171\n",
      "\n",
      "Interval 4 (30000 steps performed)\n",
      "10000/10000 [==============================] - 11359s 1s/step - reward: 0.1890\n",
      "done, took 79793.352 seconds\n"
     ]
    },
    {
     "data": {
      "text/plain": [
       "<tensorflow.python.keras.callbacks.History at 0x2de01397cc0>"
      ]
     },
     "execution_count": 19,
     "metadata": {},
     "output_type": "execute_result"
    }
   ],
   "source": [
    "dqn.fit(env, nb_steps=40000, visualize=False, verbose=1)"
   ]
  },
  {
   "cell_type": "code",
   "execution_count": 20,
   "id": "2309105b",
   "metadata": {},
   "outputs": [
    {
     "name": "stdout",
     "output_type": "stream",
     "text": [
      "Testing for 10 episodes ...\n",
      "Episode 1: reward: 110.000, steps: 765\n",
      "Episode 2: reward: 155.000, steps: 641\n",
      "Episode 3: reward: 80.000, steps: 683\n",
      "Episode 4: reward: 155.000, steps: 824\n",
      "Episode 5: reward: 80.000, steps: 677\n",
      "Episode 6: reward: 75.000, steps: 444\n",
      "Episode 7: reward: 305.000, steps: 748\n",
      "Episode 8: reward: 70.000, steps: 642\n",
      "Episode 9: reward: 105.000, steps: 652\n",
      "Episode 10: reward: 80.000, steps: 522\n",
      "121.5\n"
     ]
    }
   ],
   "source": [
    "scores = dqn.test(env, nb_episodes = 10, visualize = True)\n",
    "print(np.mean(scores.history['episode_reward']))"
   ]
  },
  {
   "cell_type": "code",
   "execution_count": 23,
   "id": "e0804005",
   "metadata": {},
   "outputs": [
    {
     "name": "stdout",
     "output_type": "stream",
     "text": [
      "[WARNING] models/dqn.h5f.index already exists - overwrite? [y/n]y\n",
      "[TIP] Next time specify overwrite=True!\n"
     ]
    }
   ],
   "source": [
    "dqn.save_weights('models/dqn.h5f')"
   ]
  },
  {
   "cell_type": "code",
   "execution_count": 22,
   "id": "3ffe0721",
   "metadata": {},
   "outputs": [],
   "source": [
    "dqn.load_weights('models/dqn.h5f')"
   ]
  },
  {
   "cell_type": "code",
   "execution_count": null,
   "id": "05a40223",
   "metadata": {},
   "outputs": [],
   "source": []
  }
 ],
 "metadata": {
  "kernelspec": {
   "display_name": "Python 3",
   "language": "python",
   "name": "python3"
  },
  "language_info": {
   "codemirror_mode": {
    "name": "ipython",
    "version": 3
   },
   "file_extension": ".py",
   "mimetype": "text/x-python",
   "name": "python",
   "nbconvert_exporter": "python",
   "pygments_lexer": "ipython3",
   "version": "3.6.13"
  }
 },
 "nbformat": 4,
 "nbformat_minor": 5
}
