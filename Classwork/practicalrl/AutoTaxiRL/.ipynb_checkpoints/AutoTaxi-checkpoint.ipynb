{
 "cells": [
  {
   "cell_type": "code",
   "execution_count": 7,
   "id": "b932c2a8",
   "metadata": {},
   "outputs": [],
   "source": [
    "#set imports\n",
    "import gym\n",
    "import numpy as np\n",
    "from numpy import random\n",
    "import matplotlib.pyplot as plt\n",
    "from IPython.display import clear_output"
   ]
  },
  {
   "cell_type": "code",
   "execution_count": 8,
   "id": "8d0a8561",
   "metadata": {},
   "outputs": [],
   "source": [
    "env = gym.make('Taxi-v3')"
   ]
  },
  {
   "cell_type": "code",
   "execution_count": 9,
   "id": "312ced9f",
   "metadata": {},
   "outputs": [
    {
     "name": "stdout",
     "output_type": "stream",
     "text": [
      "Episode: 10\n",
      "Score: -740\n"
     ]
    }
   ],
   "source": [
    "episodes = 11\n",
    "\n",
    "for episode in range(1, episodes):\n",
    "    state = env.reset()\n",
    "    done = False\n",
    "    score = 0\n",
    "    \n",
    "    while not done:\n",
    "        env.render()\n",
    "        state, reward, done, info = env.step(env.action_space.sample())\n",
    "        score += reward\n",
    "        clear_output(wait = True)\n",
    "    print('Episode: {}\\nScore: {}'.format(episode, score))\n",
    "env.close()"
   ]
  },
  {
   "cell_type": "code",
   "execution_count": 10,
   "id": "e30135a0",
   "metadata": {},
   "outputs": [],
   "source": [
    "#creating Q-Table\n",
    "actions = env.action_space.n\n",
    "state = env.observation_space.n\n",
    "\n",
    "q_table = np.zeros((state, actions))"
   ]
  },
  {
   "cell_type": "code",
   "execution_count": 11,
   "id": "a9f13dd9",
   "metadata": {},
   "outputs": [],
   "source": [
    "#q learning params\n",
    "num_episodes = 10000\n",
    "max_steps_per_episode = 100\n",
    "\n",
    "learning_rate = 0.1\n",
    "discount_rate = 0.99\n",
    "\n",
    "exploration_rate = 1\n",
    "max_exploration_rate = 1\n",
    "min_exploration_rate = 0.01\n",
    "exploration_decay_rate = 0.001\n",
    "\n",
    "rewards_all_episodes = []\n"
   ]
  },
  {
   "cell_type": "code",
   "execution_count": 13,
   "id": "399f5fdc",
   "metadata": {},
   "outputs": [
    {
     "name": "stdout",
     "output_type": "stream",
     "text": [
      "********** Training Finished **********\n"
     ]
    }
   ],
   "source": [
    "# Q-Learning Alg\n",
    "for episode in range(num_episodes):\n",
    "    state = env.reset()\n",
    "    done = False\n",
    "    rewards_current_episode = 0\n",
    "    \n",
    "    for step in range(max_steps_per_episode):\n",
    "        \n",
    "        # Exploartion vs Exploitation trade-off\n",
    "        exploration_threshold = random.uniform(0,1)\n",
    "        if exploration_threshold > exploration_rate:\n",
    "            action = np.argmax(q_table[state,:])\n",
    "        else:\n",
    "            action = env.action_space.sample()\n",
    "            \n",
    "        new_state, reward, done, info = env.step(action)\n",
    "        \n",
    "        #update q table\n",
    "        q_table[state,action] = q_table[state, action] * (1-learning_rate) + learning_rate * (reward + discount_rate * np.max(q_table[new_state,:]))\n",
    "            \n",
    "        state = new_state\n",
    "        \n",
    "        rewards_current_episode += reward\n",
    "        \n",
    "        if done == True:\n",
    "            break\n",
    "        \n",
    "        exploration_rate = min_exploration_rate + \\\n",
    "                            (max_exploration_rate - min_exploration_rate) * np.exp(-exploration_decay_rate * episode)\n",
    "        \n",
    "        rewards_all_episodes.append(rewards_current_episode)\n",
    "        \n",
    "print(\"********** Training Finished **********\")\n",
    "        "
   ]
  },
  {
   "cell_type": "code",
   "execution_count": 14,
   "id": "bad25a61",
   "metadata": {},
   "outputs": [
    {
     "data": {
      "text/plain": [
       "array([[  0.        ,   0.        ,   0.        ,   0.        ,\n",
       "          0.        ,   0.        ],\n",
       "       [ -2.03281873,   0.28866161,  -0.04025509,   0.59282459,\n",
       "          9.6220697 ,  -7.14733933],\n",
       "       [  0.7925925 ,   4.98979894,   1.74679221,   1.54609564,\n",
       "         14.11880599,  -6.1018764 ],\n",
       "       ...,\n",
       "       [ -1.49970105,   1.50758142,  -1.57127289,  -1.59153739,\n",
       "         -8.84464263,  -7.22714369],\n",
       "       [ -2.91542406,  -2.87047607,  -2.9620968 ,   0.68699843,\n",
       "        -10.74749365,  -7.60449797],\n",
       "       [  3.77442993,   2.86954838,  -0.18992349,  18.78315284,\n",
       "          0.32545457,  -1.89086279]])"
      ]
     },
     "execution_count": 14,
     "metadata": {},
     "output_type": "execute_result"
    }
   ],
   "source": [
    "q_table"
   ]
  },
  {
   "cell_type": "code",
   "execution_count": 15,
   "id": "be8c4284",
   "metadata": {},
   "outputs": [
    {
     "name": "stdout",
     "output_type": "stream",
     "text": [
      "Average per thousand episodes\n",
      "1000  :  -3955.775000000005\n",
      "2000  :  -3410.2620000000056\n",
      "3000  :  -2782.786000000002\n",
      "4000  :  -2178.5899999999774\n",
      "5000  :  -1350.4909999999668\n",
      "6000  :  -348.0239999999623\n",
      "7000  :  -173.89299999999443\n",
      "8000  :  -158.11399999999819\n",
      "9000  :  -157.14399999999821\n",
      "10000  :  -156.71399999999807\n"
     ]
    }
   ],
   "source": [
    "#calculate and pring average reward per thousand episodes\n",
    "rewards_per_thousand_episodes = np.split(np.array(rewards_all_episodes), (num_episodes/1000))\n",
    "count = 1000\n",
    "\n",
    "print('Average per thousand episodes')\n",
    "for r in rewards_per_thousand_episodes:\n",
    "    print(count, ' : ' , str(sum(r/1000)))\n",
    "    count += 1000\n",
    "    "
   ]
  },
  {
   "cell_type": "code",
   "execution_count": 24,
   "id": "317a2a4d",
   "metadata": {},
   "outputs": [
    {
     "name": "stdout",
     "output_type": "stream",
     "text": [
      "+---------+\n",
      "|R: | : :G|\n",
      "| : | : : |\n",
      "| : : : : |\n",
      "| | : | : |\n",
      "|\u001b[35m\u001b[34;1m\u001b[43mY\u001b[0m\u001b[0m\u001b[0m| : |B: |\n",
      "+---------+\n",
      "  (Dropoff)\n",
      "***** Failed *****\n"
     ]
    }
   ],
   "source": [
    "#visualize agent\n",
    "import time\n",
    "\n",
    "for episode in range(3):\n",
    "    state = env.reset()\n",
    "    done = False\n",
    "    print('episode is:' + str(episode))\n",
    "    time.sleep(1)\n",
    "    \n",
    "    for step in range(max_steps_per_episode):\n",
    "        clear_output(wait=True)\n",
    "        env.render()\n",
    "        time.sleep(0.4)\n",
    "        action = np.argmax(q_table[state, :])\n",
    "        \n",
    "        new_state, reward, done, info= env.step(action)\n",
    "        \n",
    "        if done:\n",
    "            clear_output(wait=True)\n",
    "            env.render()\n",
    "            if reward == 1:\n",
    "                print('***** Reached Goal *****')\n",
    "                time.sleep(2)\n",
    "                clear_output(wait=True)\n",
    "            else:\n",
    "                print('***** Failed *****')\n",
    "                time.sleep(2)\n",
    "                clear_output(wait=True)\n",
    "            break\n",
    "                \n",
    "        state = new_state\n",
    "env.close()\n",
    "\n",
    "                "
   ]
  },
  {
   "cell_type": "code",
   "execution_count": null,
   "id": "42201d36",
   "metadata": {},
   "outputs": [],
   "source": []
  },
  {
   "cell_type": "code",
   "execution_count": null,
   "id": "3931d2b5",
   "metadata": {},
   "outputs": [],
   "source": []
  }
 ],
 "metadata": {
  "kernelspec": {
   "display_name": "Python 3",
   "language": "python",
   "name": "python3"
  },
  "language_info": {
   "codemirror_mode": {
    "name": "ipython",
    "version": 3
   },
   "file_extension": ".py",
   "mimetype": "text/x-python",
   "name": "python",
   "nbconvert_exporter": "python",
   "pygments_lexer": "ipython3",
   "version": "3.6.13"
  }
 },
 "nbformat": 4,
 "nbformat_minor": 5
}
